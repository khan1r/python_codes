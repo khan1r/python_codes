{
  "cells": [
    {
      "cell_type": "markdown",
      "metadata": {
        "id": "GBa4eOyUySQ3"
      },
      "source": [
        "## Python \"Hello, World!\""
      ]
    },
    {
      "cell_type": "code",
      "execution_count": 1,
      "metadata": {
        "colab": {
          "base_uri": "https://localhost:8080/"
        },
        "id": "wZLO0EJS3NoU",
        "outputId": "2acce9a0-1aa8-47b7-ea56-cd7467fda4a7"
      },
      "outputs": [
        {
          "name": "stdout",
          "output_type": "stream",
          "text": [
            "Hello, World!\n"
          ]
        }
      ],
      "source": [
        "print (\"Hello, World!\")"
      ]
    },
    {
      "cell_type": "markdown",
      "metadata": {
        "id": "aZxxrro0I2qV"
      },
      "source": [
        "### **Python Reserved Words**\n",
        "The following list shows the Python keywords. These are reserved words and you cannot use them as constant or variable or any other identifier names. All the Python keywords contain lowercase letters only.\n",
        "# **and, as,\tassert, break,\tclass,\tcontinue, def, del,\telif, else,\texcept,\tFalse, finally,\tfor,\tfrom, global,\tif,\timport, in,\tis,\tlambda, None, nonlocal,\tnot, or,\tpass,\traise, return,\tTrue,\ttry, while,\twith,\tyield**"
      ]
    },
    {
      "cell_type": "markdown",
      "metadata": {
        "id": "eMYFE7-xKCr7"
      },
      "source": [
        "# **Python Lines and Indentation**\n",
        "Python programming provides no braces to indicate blocks of code for class and function definitions or flow control. Blocks of code are denoted by line indentation, which is rigidly enforced.\n"
      ]
    },
    {
      "cell_type": "code",
      "execution_count": 2,
      "metadata": {
        "colab": {
          "base_uri": "https://localhost:8080/"
        },
        "id": "OMZkytlQJ5Wc",
        "outputId": "ddf7f704-4d44-4aa4-94d5-2bb94f267f2d"
      },
      "outputs": [
        {
          "name": "stdout",
          "output_type": "stream",
          "text": [
            "Answer\n",
            "True\n"
          ]
        }
      ],
      "source": [
        "if True:\n",
        "   print (\"Answer\")\n",
        "   print (\"True\")\n",
        "else:\n",
        "   print (\"Answer\")\n",
        "   print (\"False\")"
      ]
    },
    {
      "cell_type": "markdown",
      "metadata": {
        "id": "qHH36rA-F0lt"
      },
      "source": [
        "# **Memory Address Finder**"
      ]
    },
    {
      "cell_type": "code",
      "execution_count": 3,
      "metadata": {
        "colab": {
          "base_uri": "https://localhost:8080/"
        },
        "id": "kvw6szsKF9xt",
        "outputId": "0ca10b9b-a351-4ff4-8184-d313361e7e78"
      },
      "outputs": [
        {
          "name": "stdout",
          "output_type": "stream",
          "text": [
            "10\n",
            "4380254496\n"
          ]
        }
      ],
      "source": [
        "a = 10\n",
        "\n",
        "print(a)\n",
        "print(id(a))"
      ]
    },
    {
      "cell_type": "markdown",
      "metadata": {
        "id": "ExKQAhPhGNDl"
      },
      "source": [
        "# **Variables**"
      ]
    },
    {
      "cell_type": "code",
      "execution_count": 4,
      "metadata": {
        "colab": {
          "base_uri": "https://localhost:8080/"
        },
        "id": "6TfpRekCGTyp",
        "outputId": "e0a17de0-3302-4848-ad63-cc2910ec269e"
      },
      "outputs": [
        {
          "name": "stdout",
          "output_type": "stream",
          "text": [
            "100\n",
            "1000.0\n",
            "Shakib Khan\n"
          ]
        }
      ],
      "source": [
        "counter = 100          # Creates an integer variable\n",
        "miles   = 1000.0       # Creates a floating point variable\n",
        "name    = \"Shakib Khan\"   # Creates a string variable\n",
        "\n",
        "print (counter)\n",
        "print (miles)\n",
        "print (name)"
      ]
    },
    {
      "cell_type": "markdown",
      "metadata": {
        "id": "c-g6CFfbGVr6"
      },
      "source": [
        "# **Deleting Variables**"
      ]
    },
    {
      "cell_type": "code",
      "execution_count": 5,
      "metadata": {
        "colab": {
          "base_uri": "https://localhost:8080/",
          "height": 190
        },
        "id": "tQU7YVJrGaZP",
        "outputId": "1d1b75dc-9fc3-4362-a150-f1dadfc7a461"
      },
      "outputs": [
        {
          "name": "stdout",
          "output_type": "stream",
          "text": [
            "100\n"
          ]
        },
        {
          "ename": "NameError",
          "evalue": "name 'count' is not defined",
          "output_type": "error",
          "traceback": [
            "\u001b[31m---------------------------------------------------------------------------\u001b[39m",
            "\u001b[31mNameError\u001b[39m                                 Traceback (most recent call last)",
            "\u001b[36mCell\u001b[39m\u001b[36m \u001b[39m\u001b[32mIn[5]\u001b[39m\u001b[32m, line 5\u001b[39m\n\u001b[32m      2\u001b[39m \u001b[38;5;28mprint\u001b[39m (count)\n\u001b[32m      4\u001b[39m \u001b[38;5;28;01mdel\u001b[39;00m count\n\u001b[32m----> \u001b[39m\u001b[32m5\u001b[39m \u001b[38;5;28mprint\u001b[39m (\u001b[43mcount\u001b[49m)\n",
            "\u001b[31mNameError\u001b[39m: name 'count' is not defined"
          ]
        }
      ],
      "source": [
        "count = 100\n",
        "print (count)\n",
        "\n",
        "del count\n",
        "print (count)"
      ]
    },
    {
      "cell_type": "markdown",
      "metadata": {
        "id": "pF8C0Kn_GjDY"
      },
      "source": [
        "# **Getting Datatype of Variables**"
      ]
    },
    {
      "cell_type": "code",
      "execution_count": 6,
      "metadata": {
        "colab": {
          "base_uri": "https://localhost:8080/"
        },
        "id": "tw2W25SiGnz5",
        "outputId": "ba4340cb-3566-4d22-94dd-ad1ec9d7a57e"
      },
      "outputs": [
        {
          "name": "stdout",
          "output_type": "stream",
          "text": [
            "<class 'str'>\n",
            "<class 'int'>\n",
            "<class 'float'>\n"
          ]
        }
      ],
      "source": [
        "x = \"Khan\"\n",
        "y =  10\n",
        "z =  10.10\n",
        "\n",
        "print(type(x))\n",
        "print(type(y))\n",
        "print(type(z))"
      ]
    },
    {
      "cell_type": "markdown",
      "metadata": {
        "id": "TBEdpvTnGyWR"
      },
      "source": [
        "# **Type Casting**"
      ]
    },
    {
      "cell_type": "code",
      "execution_count": 7,
      "metadata": {
        "colab": {
          "base_uri": "https://localhost:8080/"
        },
        "id": "O2yxTh78G1St",
        "outputId": "bca339d7-87da-4b63-e5aa-1f557f2e4a4a"
      },
      "outputs": [
        {
          "name": "stdout",
          "output_type": "stream",
          "text": [
            "x = 10\n",
            "y = 10\n",
            "z = 10.0\n"
          ]
        }
      ],
      "source": [
        "x = str(10)    # x will be '10'\n",
        "y = int(10)    # y will be 10\n",
        "z = float(10)  # z will be 10.0\n",
        "\n",
        "print( \"x =\", x )\n",
        "print( \"y =\", y )\n",
        "print( \"z =\", z )"
      ]
    },
    {
      "cell_type": "markdown",
      "metadata": {
        "id": "sz0MC01XHbZz"
      },
      "source": [
        "# **Case sensitivity**"
      ]
    },
    {
      "cell_type": "code",
      "execution_count": 8,
      "metadata": {
        "colab": {
          "base_uri": "https://localhost:8080/"
        },
        "id": "9vHKNg_WHhTt",
        "outputId": "d5382a36-3cf2-48ca-b70c-35f5a9697e51"
      },
      "outputs": [
        {
          "name": "stdout",
          "output_type": "stream",
          "text": [
            "age = 20\n",
            "Age = 30\n"
          ]
        }
      ],
      "source": [
        "age = 20\n",
        "Age = 30\n",
        "\n",
        "print( \"age =\", age )\n",
        "print( \"Age =\", Age )"
      ]
    },
    {
      "cell_type": "markdown",
      "metadata": {
        "id": "7450u8bgH45p"
      },
      "source": [
        "# **Multiple Assignment**"
      ]
    },
    {
      "cell_type": "code",
      "execution_count": 9,
      "metadata": {
        "colab": {
          "base_uri": "https://localhost:8080/"
        },
        "id": "P8WTQ4L3IQWY",
        "outputId": "d10e1df1-590d-4e1b-bd84-b7b194cb766d"
      },
      "outputs": [
        {
          "name": "stdout",
          "output_type": "stream",
          "text": [
            "100\n",
            "100\n",
            "100\n"
          ]
        }
      ],
      "source": [
        "a = b = c = 100\n",
        "\n",
        "print (a)\n",
        "print (b)\n",
        "print (c)"
      ]
    },
    {
      "cell_type": "code",
      "execution_count": 10,
      "metadata": {
        "colab": {
          "base_uri": "https://localhost:8080/"
        },
        "id": "pJRnza72Ia3i",
        "outputId": "38be451b-95f6-4d6f-da52-a51fbe95adce"
      },
      "outputs": [
        {
          "name": "stdout",
          "output_type": "stream",
          "text": [
            "1\n",
            "2\n",
            "Shakib Khan\n"
          ]
        }
      ],
      "source": [
        "a,b,c = 1,2,\"Shakib Khan\"\n",
        "\n",
        "print (a)\n",
        "print (b)\n",
        "print (c)"
      ]
    },
    {
      "cell_type": "markdown",
      "metadata": {
        "id": "zcTAn1DbInfL"
      },
      "source": [
        "# **Valid variable names**"
      ]
    },
    {
      "cell_type": "code",
      "execution_count": 11,
      "metadata": {
        "colab": {
          "base_uri": "https://localhost:8080/"
        },
        "id": "p8cU4wsLIraP",
        "outputId": "9a4e2077-8096-48c4-a165-8c42ea2cd21d"
      },
      "outputs": [
        {
          "name": "stdout",
          "output_type": "stream",
          "text": [
            "100\n",
            "100\n",
            "Saviya\n",
            "Tithy\n",
            "20\n",
            "100000\n"
          ]
        }
      ],
      "source": [
        "counter = 100\n",
        "_count  = 100\n",
        "name1 = \"Saviya\"\n",
        "name2 = \"Tithy\"\n",
        "Age  = 20\n",
        "zara_salary = 100000\n",
        "\n",
        "print (counter)\n",
        "print (_count)\n",
        "print (name1)\n",
        "print (name2)\n",
        "print (Age)\n",
        "print (zara_salary)"
      ]
    },
    {
      "cell_type": "markdown",
      "metadata": {
        "id": "j_Al8ZYxJRS2"
      },
      "source": [
        "# **Invalid Variable Names**"
      ]
    },
    {
      "cell_type": "code",
      "execution_count": 12,
      "metadata": {
        "colab": {
          "base_uri": "https://localhost:8080/",
          "height": 105
        },
        "id": "Ze3-cYlrJU3W",
        "outputId": "552109c5-13dc-4215-af96-c55bcec23c2d"
      },
      "outputs": [
        {
          "ename": "SyntaxError",
          "evalue": "invalid decimal literal (29130755.py, line 1)",
          "output_type": "error",
          "traceback": [
            "  \u001b[36mCell\u001b[39m\u001b[36m \u001b[39m\u001b[32mIn[12]\u001b[39m\u001b[32m, line 1\u001b[39m\n\u001b[31m    \u001b[39m\u001b[31m1counter = 100\u001b[39m\n    ^\n\u001b[31mSyntaxError\u001b[39m\u001b[31m:\u001b[39m invalid decimal literal\n"
          ]
        }
      ],
      "source": [
        "1counter = 100\n",
        "$_count  = 100\n",
        "zara-salary = 100000\n",
        "\n",
        "print (1counter)\n",
        "print ($count)\n",
        "print (zara-salary)"
      ]
    },
    {
      "cell_type": "markdown",
      "metadata": {
        "id": "6Ep6_IceJWqW"
      },
      "source": [
        "# **Operations**"
      ]
    },
    {
      "cell_type": "code",
      "execution_count": 13,
      "metadata": {
        "colab": {
          "base_uri": "https://localhost:8080/"
        },
        "id": "62GcnM8mJZCt",
        "outputId": "599f099c-f70c-4e2c-cdb7-9a4809581254"
      },
      "outputs": [
        {
          "name": "stdout",
          "output_type": "stream",
          "text": [
            "Area =  200\n",
            "Perimeter =  60\n"
          ]
        }
      ],
      "source": [
        "width = 10\n",
        "height = 20\n",
        "area = width*height\n",
        "perimeter = 2*(width+height)\n",
        "print (\"Area = \", area)\n",
        "print (\"Perimeter = \", perimeter)"
      ]
    },
    {
      "cell_type": "markdown",
      "metadata": {
        "id": "s9biok37Jy4A"
      },
      "source": [
        "# **Local Variables**"
      ]
    },
    {
      "cell_type": "code",
      "execution_count": 14,
      "metadata": {
        "colab": {
          "base_uri": "https://localhost:8080/"
        },
        "id": "Yhe0hSnmJ6cV",
        "outputId": "5c013a5b-6743-4807-a6f5-5753c6618bac"
      },
      "outputs": [
        {
          "name": "stdout",
          "output_type": "stream",
          "text": [
            "15\n"
          ]
        }
      ],
      "source": [
        "def sum(x,y):\n",
        "   sum = x + y\n",
        "   return sum\n",
        "print(sum(5, 10))"
      ]
    },
    {
      "cell_type": "markdown",
      "metadata": {
        "id": "gV8trQ8EJ86g"
      },
      "source": [
        "# **Global Variables**"
      ]
    },
    {
      "cell_type": "code",
      "execution_count": 15,
      "metadata": {
        "colab": {
          "base_uri": "https://localhost:8080/"
        },
        "id": "FB0PXjsLKAL6",
        "outputId": "c9e85f51-64a7-4bbc-e112-d53d76c03aae"
      },
      "outputs": [
        {
          "name": "stdout",
          "output_type": "stream",
          "text": [
            "15\n"
          ]
        }
      ],
      "source": [
        "x = 5\n",
        "y = 10\n",
        "def sum():\n",
        "   sum = x + y\n",
        "   return sum\n",
        "print(sum())"
      ]
    },
    {
      "cell_type": "markdown",
      "metadata": {
        "notebookRunGroups": {
          "groupValue": "2"
        }
      },
      "source": [
        "# **Data Type**\n",
        "numeric datatype"
      ]
    },
    {
      "cell_type": "code",
      "execution_count": 17,
      "metadata": {},
      "outputs": [
        {
          "data": {
            "text/plain": [
              "complex"
            ]
          },
          "execution_count": 17,
          "metadata": {},
          "output_type": "execute_result"
        }
      ],
      "source": [
        "var1 = 1       # int data type\n",
        "var2 = True    # bool data type\n",
        "var3 = 10.023  # float data type\n",
        "var4 = 10+3j   # complex data type\n",
        "type(var4)"
      ]
    },
    {
      "cell_type": "code",
      "execution_count": 18,
      "metadata": {},
      "outputs": [
        {
          "name": "stdout",
          "output_type": "stream",
          "text": [
            "The type of variable having value 100  is  <class 'int'>\n",
            "The type of variable having value 20.345  is  <class 'float'>\n",
            "The type of variable having value (10+3j)  is  <class 'complex'>\n"
          ]
        }
      ],
      "source": [
        "# integer variable.\n",
        "a=100\n",
        "print(\"The type of variable having value\", a, \" is \", type(a))\n",
        "\n",
        "# float variable.\n",
        "c=20.345\n",
        "print(\"The type of variable having value\", c, \" is \", type(c))\n",
        "\n",
        "# complex variable.\n",
        "d=10+3j\n",
        "print(\"The type of variable having value\", d, \" is \", type(d))"
      ]
    },
    {
      "cell_type": "markdown",
      "metadata": {},
      "source": [
        "# **String DataType**"
      ]
    },
    {
      "cell_type": "code",
      "execution_count": 19,
      "metadata": {},
      "outputs": [
        {
          "name": "stdout",
          "output_type": "stream",
          "text": [
            "Hello World!\n",
            "H\n",
            "llo\n",
            "llo World!\n",
            "Hello World!Hello World!\n",
            "Hello World!TEST\n"
          ]
        }
      ],
      "source": [
        "str = 'Hello World!'\n",
        "\n",
        "print (str)          # Prints complete string\n",
        "print (str[0])       # Prints first character of the string\n",
        "print (str[2:5])     # Prints characters starting from 3rd to 5th\n",
        "print (str[2:])      # Prints string starting from 3rd character\n",
        "print (str * 2)      # Prints string two times\n",
        "print (str + \"TEST\") # Prints concatenated string"
      ]
    },
    {
      "cell_type": "markdown",
      "metadata": {},
      "source": [
        "# **List DataType**"
      ]
    },
    {
      "cell_type": "code",
      "execution_count": 20,
      "metadata": {},
      "outputs": [
        {
          "name": "stdout",
          "output_type": "stream",
          "text": [
            "['abcd', 786, 2.23, 'john', 70.2]\n",
            "abcd\n",
            "[786, 2.23]\n",
            "[2.23, 'john', 70.2]\n",
            "[123, 'john', 123, 'john']\n",
            "['abcd', 786, 2.23, 'john', 70.2, 123, 'john']\n"
          ]
        }
      ],
      "source": [
        "list = [ 'abcd', 786 , 2.23, 'john', 70.2 ]\n",
        "tinylist = [123, 'john']\n",
        "\n",
        "print (list)            # Prints complete list\n",
        "print (list[0])         # Prints first element of the list\n",
        "print (list[1:3])       # Prints elements starting from 2nd till 3rd \n",
        "print (list[2:])        # Prints elements starting from 3rd element\n",
        "print (tinylist * 2)    # Prints list two times\n",
        "print (list + tinylist) # Prints concatenated lists"
      ]
    },
    {
      "cell_type": "markdown",
      "metadata": {},
      "source": [
        "# **Tuple DataType**"
      ]
    },
    {
      "cell_type": "code",
      "execution_count": 21,
      "metadata": {},
      "outputs": [
        {
          "name": "stdout",
          "output_type": "stream",
          "text": [
            "('abcd', 786, 2.23, 'john', 70.2)\n",
            "abcd\n",
            "(786, 2.23)\n",
            "(2.23, 'john', 70.2)\n",
            "(123, 'john', 123, 'john')\n",
            "('abcd', 786, 2.23, 'john', 70.2, 123, 'john')\n"
          ]
        }
      ],
      "source": [
        "tuple = ( 'abcd', 786 , 2.23, 'john', 70.2  )\n",
        "tinytuple = (123, 'john')\n",
        "\n",
        "print (tuple)               # Prints the complete tuple\n",
        "print (tuple[0])            # Prints first element of the tuple\n",
        "print (tuple[1:3])          # Prints elements of the tuple starting from 2nd till 3rd \n",
        "print (tuple[2:])           # Prints elements of the tuple starting from 3rd element\n",
        "print (tinytuple * 2)       # Prints the contents of the tuple twice\n",
        "print (tuple + tinytuple)   # Prints concatenated tuples"
      ]
    },
    {
      "cell_type": "markdown",
      "metadata": {},
      "source": [
        "# **Range DataType**"
      ]
    },
    {
      "cell_type": "code",
      "execution_count": 22,
      "metadata": {},
      "outputs": [
        {
          "name": "stdout",
          "output_type": "stream",
          "text": [
            "0\n",
            "1\n",
            "2\n",
            "3\n",
            "4\n"
          ]
        }
      ],
      "source": [
        "for i in range(5):\n",
        "  print(i)"
      ]
    },
    {
      "cell_type": "code",
      "execution_count": 23,
      "metadata": {},
      "outputs": [
        {
          "name": "stdout",
          "output_type": "stream",
          "text": [
            "2\n",
            "3\n",
            "4\n"
          ]
        }
      ],
      "source": [
        "for i in range(2, 5):\n",
        "  print(i)"
      ]
    },
    {
      "cell_type": "markdown",
      "metadata": {},
      "source": [
        "**print the number starting from 1 but with an increment of 2 instead of 1**"
      ]
    },
    {
      "cell_type": "code",
      "execution_count": 24,
      "metadata": {},
      "outputs": [
        {
          "name": "stdout",
          "output_type": "stream",
          "text": [
            "1\n",
            "3\n"
          ]
        }
      ],
      "source": [
        "for i in range(1, 5, 2):\n",
        "  print(i)"
      ]
    },
    {
      "cell_type": "markdown",
      "metadata": {},
      "source": [
        "# **Binary DataType**"
      ]
    },
    {
      "cell_type": "markdown",
      "metadata": {},
      "source": [
        "# **Bytes data**"
      ]
    },
    {
      "cell_type": "code",
      "execution_count": 25,
      "metadata": {},
      "outputs": [
        {
          "name": "stdout",
          "output_type": "stream",
          "text": [
            "b'ABCDE'\n"
          ]
        }
      ],
      "source": [
        "# Using bytes() function to create bytes\n",
        "b1 = bytes([65, 66, 67, 68, 69])  \n",
        "print(b1)  "
      ]
    },
    {
      "cell_type": "code",
      "execution_count": 26,
      "metadata": {},
      "outputs": [
        {
          "name": "stdout",
          "output_type": "stream",
          "text": [
            "b'Hello'\n"
          ]
        }
      ],
      "source": [
        "# Using prefix 'b' to create bytes\n",
        "b2 = b'Hello'  \n",
        "print(b2)  "
      ]
    },
    {
      "cell_type": "markdown",
      "metadata": {},
      "source": [
        "# **Bytearray DataType**"
      ]
    },
    {
      "cell_type": "code",
      "execution_count": 27,
      "metadata": {},
      "outputs": [
        {
          "name": "stdout",
          "output_type": "stream",
          "text": [
            "bytearray(b'Hello')\n"
          ]
        }
      ],
      "source": [
        "# Creating a bytearray from an iterable of integers\n",
        "value = bytearray([72, 101, 108, 108, 111])  \n",
        "print(value)  "
      ]
    },
    {
      "cell_type": "code",
      "execution_count": 28,
      "metadata": {},
      "outputs": [
        {
          "name": "stdout",
          "output_type": "stream",
          "text": [
            "bytearray(b'Hello')\n"
          ]
        }
      ],
      "source": [
        "# Creating a bytearray by encoding a string\n",
        "val = bytearray(\"Hello\", 'utf-8')  \n",
        "print(val)  "
      ]
    },
    {
      "cell_type": "markdown",
      "metadata": {},
      "source": [
        "# **Memory View DataType**"
      ]
    },
    {
      "cell_type": "code",
      "execution_count": 29,
      "metadata": {},
      "outputs": [
        {
          "name": "stdout",
          "output_type": "stream",
          "text": [
            "<memory at 0x10784bdc0>\n"
          ]
        }
      ],
      "source": [
        "data = bytearray(b'Hello, world!')\n",
        "view = memoryview(data)\n",
        "print(view)"
      ]
    }
  ],
  "metadata": {
    "accelerator": "GPU",
    "colab": {
      "gpuType": "T4",
      "provenance": []
    },
    "kernelspec": {
      "display_name": "Python 3",
      "name": "python3"
    },
    "language_info": {
      "codemirror_mode": {
        "name": "ipython",
        "version": 3
      },
      "file_extension": ".py",
      "mimetype": "text/x-python",
      "name": "python",
      "nbconvert_exporter": "python",
      "pygments_lexer": "ipython3",
      "version": "3.13.5"
    }
  },
  "nbformat": 4,
  "nbformat_minor": 0
}
